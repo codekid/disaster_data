{
 "cells": [
  {
   "cell_type": "code",
   "execution_count": 53,
   "metadata": {},
   "outputs": [],
   "source": [
    "import great_expectations as gx\n",
    "from great_expectations.data_context import FileDataContext\n",
    "from great_expectations.expectations.expectation import ExpectationConfiguration\n",
    "import os"
   ]
  },
  {
   "cell_type": "code",
   "execution_count": 54,
   "metadata": {},
   "outputs": [],
   "source": [
    "GX_CONTEXT_PATH = \"/Users/kadeemletts/Documents/dev/disaster_data/astronomer_test/include\"\n",
    "context = FileDataContext()"
   ]
  },
  {
   "cell_type": "code",
   "execution_count": 55,
   "metadata": {},
   "outputs": [],
   "source": [
    "suite_name = \"disaster__source__suite\"\n",
    "suite = context.add_or_update_expectation_suite(expectation_suite_name=suite_name)\n"
   ]
  },
  {
   "cell_type": "markdown",
   "metadata": {},
   "source": [
    "#### Only run if the expectation suite wasn't created as yet"
   ]
  },
  {
   "cell_type": "code",
   "execution_count": 49,
   "metadata": {},
   "outputs": [],
   "source": [
    "exp_congig1 = ExpectationConfiguration(\n",
    "    expectation_type=\"expect_column_values_to_not_be_null\",\n",
    "    kwargs={\"column\":\"BEGIN_YEARMONTH\"},\n",
    "    meta={\n",
    "        \"notes\": {\n",
    "            \"format\": \"markdown\",\n",
    "            \"context\": \"Checking if there's a null in the source data because it's a requirement.\"\n",
    "        }\n",
    "    }\n",
    ")\n"
   ]
  },
  {
   "cell_type": "code",
   "execution_count": 50,
   "metadata": {},
   "outputs": [],
   "source": [
    "state_names = [\n",
    "    \"STATE\",\n",
    "    \"ALABAMA\",\n",
    "    \"ALASKA\",\n",
    "    \"ARIZONA\",\n",
    "    \"ARKANSAS\",\n",
    "    \"CALIFORNIA\",\n",
    "    \"COLORADO\",\n",
    "    \"CONNECTICUT\",\n",
    "    \"DELAWARE\",\n",
    "    \"FLORIDA\",\n",
    "    \"GEORGIA\",\n",
    "    \"HAWAII\",\n",
    "    \"IDAHO\",\n",
    "    \"ILLINOIS\",\n",
    "    \"INDIANA\",\n",
    "    \"IOWA\",\n",
    "    \"KANSAS\",\n",
    "    \"KENTUCKY\",\n",
    "    \"LOUISIANA\",\n",
    "    \"MAINE\",\n",
    "    \"MARYLAND\",\n",
    "    \"MASSACHUSETTS\",\n",
    "    \"MICHIGAN\",\n",
    "    \"MINNESOTA\",\n",
    "    \"MISSISSIPPI\",\n",
    "    \"MISSOURI\",\n",
    "    \"MONTANA\",\n",
    "    \"NEBRASKA\",\n",
    "    \"NEVADA\",\n",
    "    \"NEW HAMPSHIRE\",\n",
    "    \"NEW JERSEY\",\n",
    "    \"NEW MEXICO\",\n",
    "    \"NEW YORK\",\n",
    "    \"NORTH CAROLINA\",\n",
    "    \"NORTH DAKOTA\",\n",
    "    \"OHIO\",\n",
    "    \"OKLAHOMA\",\n",
    "    \"OREGON\",\n",
    "    \"PENNSYLVANIA\",\n",
    "    \"RHODE ISLAND\",\n",
    "    \"SOUTH CAROLINA\",\n",
    "    \"SOUTH DAKOTA\",\n",
    "    \"TENNESSEE\",\n",
    "    \"TEXAS\",\n",
    "    \"UTAH\",\n",
    "    \"VERMONT\",\n",
    "    \"VIRGINIA\",\n",
    "    \"WASHINGTON\",\n",
    "    \"WEST VIRGINIA\",\n",
    "    \"WISCONSIN\",\n",
    "    \"WYOMING\"\n",
    "]\n",
    "\n",
    "exp_config2 = ExpectationConfiguration(\n",
    "    expectation_type=\"expect_column_distinct_values_to_be_in_set\",\n",
    "    kwargs={\"column\": \"STATE\", \"value_set\": state_names}\n",
    ")"
   ]
  },
  {
   "cell_type": "code",
   "execution_count": 51,
   "metadata": {},
   "outputs": [
    {
     "data": {
      "text/plain": [
       "{\"expectation_type\": \"expect_column_distinct_values_to_be_in_set\", \"kwargs\": {\"column\": \"STATE\", \"value_set\": [\"STATE\", \"ALABAMA\", \"ALASKA\", \"ARIZONA\", \"ARKANSAS\", \"CALIFORNIA\", \"COLORADO\", \"CONNECTICUT\", \"DELAWARE\", \"FLORIDA\", \"GEORGIA\", \"HAWAII\", \"IDAHO\", \"ILLINOIS\", \"INDIANA\", \"IOWA\", \"KANSAS\", \"KENTUCKY\", \"LOUISIANA\", \"MAINE\", \"MARYLAND\", \"MASSACHUSETTS\", \"MICHIGAN\", \"MINNESOTA\", \"MISSISSIPPI\", \"MISSOURI\", \"MONTANA\", \"NEBRASKA\", \"NEVADA\", \"NEW HAMPSHIRE\", \"NEW JERSEY\", \"NEW MEXICO\", \"NEW YORK\", \"NORTH CAROLINA\", \"NORTH DAKOTA\", \"OHIO\", \"OKLAHOMA\", \"OREGON\", \"PENNSYLVANIA\", \"RHODE ISLAND\", \"SOUTH CAROLINA\", \"SOUTH DAKOTA\", \"TENNESSEE\", \"TEXAS\", \"UTAH\", \"VERMONT\", \"VIRGINIA\", \"WASHINGTON\", \"WEST VIRGINIA\", \"WISCONSIN\", \"WYOMING\"]}, \"meta\": {}}"
      ]
     },
     "execution_count": 51,
     "metadata": {},
     "output_type": "execute_result"
    }
   ],
   "source": [
    "suite.add_expectation(expectation_configuration=exp_congig1)\n",
    "suite.add_expectation(expectation_configuration=exp_config2)"
   ]
  },
  {
   "cell_type": "code",
   "execution_count": 52,
   "metadata": {},
   "outputs": [
    {
     "data": {
      "text/plain": [
       "'/Users/kadeemletts/Documents/dev/disaster_data/astronomer_test/include/gx/expectations/disaster__source__suite.json'"
      ]
     },
     "execution_count": 52,
     "metadata": {},
     "output_type": "execute_result"
    }
   ],
   "source": [
    "context.save_expectation_suite(expectation_suite=suite)"
   ]
  },
  {
   "cell_type": "code",
   "execution_count": 40,
   "metadata": {},
   "outputs": [],
   "source": [
    "validator=context.sources.pandas_default.read_csv(\n",
    "    \"../../../disaster_app_v2/raw/StormEvents_details-ftp_v1.0_d1950_c20210803.csv\"\n",
    ")"
   ]
  },
  {
   "cell_type": "code",
   "execution_count": 37,
   "metadata": {},
   "outputs": [
    {
     "data": {
      "application/vnd.jupyter.widget-view+json": {
       "model_id": "b82c710a24f6464f9f6aedd358f13873",
       "version_major": 2,
       "version_minor": 0
      },
      "text/plain": [
       "Calculating Metrics:   0%|          | 0/6 [00:00<?, ?it/s]"
      ]
     },
     "metadata": {},
     "output_type": "display_data"
    },
    {
     "data": {
      "application/vnd.jupyter.widget-view+json": {
       "model_id": "0ab559226ae64e829e4be4ae0162faa1",
       "version_major": 2,
       "version_minor": 0
      },
      "text/plain": [
       "Calculating Metrics:   0%|          | 0/4 [00:00<?, ?it/s]"
      ]
     },
     "metadata": {},
     "output_type": "display_data"
    },
    {
     "data": {
      "text/plain": [
       "{\n",
       "  \"success\": true,\n",
       "  \"result\": {\n",
       "    \"observed_value\": [\n",
       "      \"ALABAMA\",\n",
       "      \"ARKANSAS\",\n",
       "      \"COLORADO\",\n",
       "      \"CONNECTICUT\",\n",
       "      \"FLORIDA\",\n",
       "      \"GEORGIA\",\n",
       "      \"ILLINOIS\",\n",
       "      \"INDIANA\",\n",
       "      \"IOWA\",\n",
       "      \"KANSAS\",\n",
       "      \"KENTUCKY\",\n",
       "      \"LOUISIANA\",\n",
       "      \"MARYLAND\",\n",
       "      \"MINNESOTA\",\n",
       "      \"MISSISSIPPI\",\n",
       "      \"MISSOURI\",\n",
       "      \"NEBRASKA\",\n",
       "      \"NEW MEXICO\",\n",
       "      \"NORTH CAROLINA\",\n",
       "      \"NORTH DAKOTA\",\n",
       "      \"OHIO\",\n",
       "      \"OKLAHOMA\",\n",
       "      \"PENNSYLVANIA\",\n",
       "      \"SOUTH CAROLINA\",\n",
       "      \"SOUTH DAKOTA\",\n",
       "      \"STATE\",\n",
       "      \"TENNESSEE\",\n",
       "      \"TEXAS\",\n",
       "      \"WEST VIRGINIA\",\n",
       "      \"WISCONSIN\",\n",
       "      \"WYOMING\"\n",
       "    ],\n",
       "    \"details\": {\n",
       "      \"value_counts\": [\n",
       "        {\n",
       "          \"value\": \"ALABAMA\",\n",
       "          \"count\": 8\n",
       "        },\n",
       "        {\n",
       "          \"value\": \"ARKANSAS\",\n",
       "          \"count\": 52\n",
       "        },\n",
       "        {\n",
       "          \"value\": \"COLORADO\",\n",
       "          \"count\": 12\n",
       "        },\n",
       "        {\n",
       "          \"value\": \"CONNECTICUT\",\n",
       "          \"count\": 8\n",
       "        },\n",
       "        {\n",
       "          \"value\": \"FLORIDA\",\n",
       "          \"count\": 24\n",
       "        },\n",
       "        {\n",
       "          \"value\": \"GEORGIA\",\n",
       "          \"count\": 16\n",
       "        },\n",
       "        {\n",
       "          \"value\": \"ILLINOIS\",\n",
       "          \"count\": 44\n",
       "        },\n",
       "        {\n",
       "          \"value\": \"INDIANA\",\n",
       "          \"count\": 12\n",
       "        },\n",
       "        {\n",
       "          \"value\": \"IOWA\",\n",
       "          \"count\": 16\n",
       "        },\n",
       "        {\n",
       "          \"value\": \"KANSAS\",\n",
       "          \"count\": 132\n",
       "        },\n",
       "        {\n",
       "          \"value\": \"KENTUCKY\",\n",
       "          \"count\": 8\n",
       "        },\n",
       "        {\n",
       "          \"value\": \"LOUISIANA\",\n",
       "          \"count\": 112\n",
       "        },\n",
       "        {\n",
       "          \"value\": \"MARYLAND\",\n",
       "          \"count\": 4\n",
       "        },\n",
       "        {\n",
       "          \"value\": \"MINNESOTA\",\n",
       "          \"count\": 4\n",
       "        },\n",
       "        {\n",
       "          \"value\": \"MISSISSIPPI\",\n",
       "          \"count\": 64\n",
       "        },\n",
       "        {\n",
       "          \"value\": \"MISSOURI\",\n",
       "          \"count\": 24\n",
       "        },\n",
       "        {\n",
       "          \"value\": \"NEBRASKA\",\n",
       "          \"count\": 24\n",
       "        },\n",
       "        {\n",
       "          \"value\": \"NEW MEXICO\",\n",
       "          \"count\": 8\n",
       "        },\n",
       "        {\n",
       "          \"value\": \"NORTH CAROLINA\",\n",
       "          \"count\": 36\n",
       "        },\n",
       "        {\n",
       "          \"value\": \"NORTH DAKOTA\",\n",
       "          \"count\": 8\n",
       "        },\n",
       "        {\n",
       "          \"value\": \"OHIO\",\n",
       "          \"count\": 12\n",
       "        },\n",
       "        {\n",
       "          \"value\": \"OKLAHOMA\",\n",
       "          \"count\": 100\n",
       "        },\n",
       "        {\n",
       "          \"value\": \"PENNSYLVANIA\",\n",
       "          \"count\": 24\n",
       "        },\n",
       "        {\n",
       "          \"value\": \"SOUTH CAROLINA\",\n",
       "          \"count\": 4\n",
       "        },\n",
       "        {\n",
       "          \"value\": \"SOUTH DAKOTA\",\n",
       "          \"count\": 4\n",
       "        },\n",
       "        {\n",
       "          \"value\": \"STATE\",\n",
       "          \"count\": 3\n",
       "        },\n",
       "        {\n",
       "          \"value\": \"TENNESSEE\",\n",
       "          \"count\": 12\n",
       "        },\n",
       "        {\n",
       "          \"value\": \"TEXAS\",\n",
       "          \"count\": 80\n",
       "        },\n",
       "        {\n",
       "          \"value\": \"WEST VIRGINIA\",\n",
       "          \"count\": 4\n",
       "        },\n",
       "        {\n",
       "          \"value\": \"WISCONSIN\",\n",
       "          \"count\": 24\n",
       "        },\n",
       "        {\n",
       "          \"value\": \"WYOMING\",\n",
       "          \"count\": 12\n",
       "        }\n",
       "      ]\n",
       "    }\n",
       "  },\n",
       "  \"meta\": {},\n",
       "  \"exception_info\": {\n",
       "    \"raised_exception\": false,\n",
       "    \"exception_traceback\": null,\n",
       "    \"exception_message\": null\n",
       "  }\n",
       "}"
      ]
     },
     "execution_count": 37,
     "metadata": {},
     "output_type": "execute_result"
    }
   ],
   "source": [
    "validator.expect_column_values_to_not_be_null(\"BEGIN_YEARMONTH\")\n",
    "validator.expect_column_distinct_values_to_be_in_set(\"STATE\", state_names)"
   ]
  },
  {
   "cell_type": "code",
   "execution_count": null,
   "metadata": {},
   "outputs": [],
   "source": []
  },
  {
   "cell_type": "code",
   "execution_count": 41,
   "metadata": {},
   "outputs": [],
   "source": [
    "\n",
    "datasource_name = \"disaster_weather_data\"\n",
    "datasource = context.sources.add_or_update_pandas(datasource_name)\n",
    "\n",
    "asset_name = \"disaster_data\"\n",
    "path_to_data = \"../../../disaster_app_v2/raw/StormEvents_details-ftp_v1.0_d1950_c20210803.csv\"\n",
    "asset = datasource.add_csv_asset(asset_name, filepath_or_buffer=path_to_data)"
   ]
  },
  {
   "cell_type": "code",
   "execution_count": 33,
   "metadata": {},
   "outputs": [],
   "source": [
    "batch_request = asset.build_batch_request()"
   ]
  },
  {
   "cell_type": "code",
   "execution_count": 42,
   "metadata": {},
   "outputs": [],
   "source": [
    "validator = context.get_validator(\n",
    "    batch_request=batch_request,\n",
    "expectation_suite_name=suite_name\n",
    ")"
   ]
  },
  {
   "cell_type": "code",
   "execution_count": 43,
   "metadata": {},
   "outputs": [],
   "source": [
    "checkpoint_name = \"disaster__source__checkpoint\"\n",
    "checkpoint = context.add_or_update_checkpoint(\n",
    "    name=checkpoint_name,\n",
    "    validator=validator\n",
    ")"
   ]
  },
  {
   "cell_type": "code",
   "execution_count": 44,
   "metadata": {},
   "outputs": [
    {
     "data": {
      "application/vnd.jupyter.widget-view+json": {
       "model_id": "5c49d86a19cb4e34bcfcc51fe335b480",
       "version_major": 2,
       "version_minor": 0
      },
      "text/plain": [
       "Calculating Metrics:   0%|          | 0/9 [00:00<?, ?it/s]"
      ]
     },
     "metadata": {},
     "output_type": "display_data"
    },
    {
     "name": "stderr",
     "output_type": "stream",
     "text": [
      "An unexpected Exception occurred during data docs rendering.  Because of this error, certain parts of data docs will not be rendered properly and/or may not appear altogether.  Please use the trace, included in this message, to diagnose and repair the underlying issue.  Detailed information follows:\n",
      "                KeyError: \"'content'\".  Traceback: \"Traceback (most recent call last):\n",
      "  File \"/Users/kadeemletts/.pyenv/versions/3.9.2/envs/great_expectations/lib/python3.9/site-packages/great_expectations/render/renderer/site_builder.py\", line 475, in build\n",
      "    rendered_content = self.renderer_class.render(resource)\n",
      "  File \"/Users/kadeemletts/.pyenv/versions/3.9.2/envs/great_expectations/lib/python3.9/site-packages/great_expectations/render/renderer/page_renderer.py\", line 704, in render\n",
      "    sections += [\n",
      "  File \"/Users/kadeemletts/.pyenv/versions/3.9.2/envs/great_expectations/lib/python3.9/site-packages/great_expectations/render/renderer/page_renderer.py\", line 705, in <listcomp>\n",
      "    self._column_section_renderer.render(expectations=columns[column])\n",
      "  File \"/Users/kadeemletts/.pyenv/versions/3.9.2/envs/great_expectations/lib/python3.9/site-packages/great_expectations/render/renderer/column_section_renderer.py\", line 518, in render\n",
      "    remaining_expectations, bullet_block = self._render_bullet_list(\n",
      "  File \"/Users/kadeemletts/.pyenv/versions/3.9.2/envs/great_expectations/lib/python3.9/site-packages/great_expectations/render/renderer/column_section_renderer.py\", line 503, in _render_bullet_list\n",
      "    new_block = self._bullet_list_renderer.render(\n",
      "  File \"/Users/kadeemletts/.pyenv/versions/3.9.2/envs/great_expectations/lib/python3.9/site-packages/great_expectations/render/renderer/content_block/content_block.py\", line 66, in render\n",
      "    result = render_fn(\n",
      "  File \"/Users/kadeemletts/.pyenv/versions/3.9.2/envs/great_expectations/lib/python3.9/site-packages/great_expectations/render/renderer/content_block/content_block.py\", line 163, in _render_list\n",
      "    expectation_meta_notes = cls._render_expectation_meta_notes(obj_)\n",
      "  File \"/Users/kadeemletts/.pyenv/versions/3.9.2/envs/great_expectations/lib/python3.9/site-packages/great_expectations/render/renderer/content_block/content_block.py\", line 337, in _render_expectation_meta_notes\n",
      "    if isinstance(notes[\"content\"], str):\n",
      "KeyError: 'content'\n",
      "\".\n"
     ]
    }
   ],
   "source": [
    "checkpoint_result = checkpoint.run()"
   ]
  }
 ],
 "metadata": {
  "kernelspec": {
   "display_name": "great_expectations",
   "language": "python",
   "name": "python3"
  },
  "language_info": {
   "codemirror_mode": {
    "name": "ipython",
    "version": 3
   },
   "file_extension": ".py",
   "mimetype": "text/x-python",
   "name": "python",
   "nbconvert_exporter": "python",
   "pygments_lexer": "ipython3",
   "version": "3.9.2"
  }
 },
 "nbformat": 4,
 "nbformat_minor": 2
}
