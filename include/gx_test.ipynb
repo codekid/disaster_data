{
 "cells": [
  {
   "cell_type": "code",
   "execution_count": 18,
   "metadata": {},
   "outputs": [],
   "source": [
    "import great_expectations as gx\n",
    "from great_expectations.data_context import FileDataContext\n",
    "from great_expectations.expectations.expectation import ExpectationConfiguration\n",
    "import os"
   ]
  },
  {
   "cell_type": "code",
   "execution_count": 19,
   "metadata": {},
   "outputs": [],
   "source": [
    "GX_CONTEXT_PATH = \"/Users/kadeemletts/Documents/dev/disaster_data/astronomer_test/include\"\n",
    "context = FileDataContext()"
   ]
  },
  {
   "cell_type": "code",
   "execution_count": 20,
   "metadata": {},
   "outputs": [],
   "source": [
    "os.chdir(GX_CONTEXT_PATH)"
   ]
  },
  {
   "cell_type": "code",
   "execution_count": 21,
   "metadata": {},
   "outputs": [],
   "source": [
    "suite_name = \"disaster__source__suite\"\n",
    "suite = context.add_or_update_expectation_suite(expectation_suite_name=suite_name)\n"
   ]
  },
  {
   "cell_type": "markdown",
   "metadata": {},
   "source": [
    "#### Only run if the expectation suite wasn't created as yet"
   ]
  },
  {
   "cell_type": "code",
   "execution_count": 56,
   "metadata": {},
   "outputs": [],
   "source": [
    "exp_congig1 = ExpectationConfiguration(\n",
    "    expectation_type=\"expect_column_values_to_not_be_null\",\n",
    "    kwargs={\"column\":\"BEGIN_YEARMONTH\"},\n",
    "    meta={\n",
    "        \"notes\": {\n",
    "            \"format\": \"markdown\",\n",
    "            \"context\": \"Checking if there's a null in the source data because it's a requirement.\"\n",
    "        }\n",
    "    }\n",
    ")\n"
   ]
  },
  {
   "cell_type": "code",
   "execution_count": 22,
   "metadata": {},
   "outputs": [],
   "source": [
    "state_names = [\n",
    "    \"STATE\",\n",
    "    \"ALABAMA\",\n",
    "    \"ALASKA\",\n",
    "    \"ARIZONA\",\n",
    "    \"ARKANSAS\",\n",
    "    \"CALIFORNIA\",\n",
    "    \"COLORADO\",\n",
    "    \"CONNECTICUT\",\n",
    "    \"DELAWARE\",\n",
    "    \"DISTRICT OF COLUMBIA\",\n",
    "    \"FLORIDA\",\n",
    "    \"GEORGIA\",\n",
    "    \"HAWAII\",\n",
    "    \"IDAHO\",\n",
    "    \"ILLINOIS\",\n",
    "    \"INDIANA\",\n",
    "    \"IOWA\",\n",
    "    \"KANSAS\",\n",
    "    \"KENTUCKY\",\n",
    "    \"Kentucky\",\n",
    "    \"LOUISIANA\",\n",
    "    \"MAINE\",\n",
    "    \"MARYLAND\",\n",
    "    \"MASSACHUSETTS\",\n",
    "    \"MICHIGAN\",\n",
    "    \"MINNESOTA\",\n",
    "    \"MISSISSIPPI\",\n",
    "    \"MISSOURI\",\n",
    "    \"MONTANA\",\n",
    "    \"NEBRASKA\",\n",
    "    \"NEVADA\",\n",
    "    \"NEW HAMPSHIRE\",\n",
    "    \"NEW JERSEY\",\n",
    "    \"NEW MEXICO\",\n",
    "    \"NEW YORK\",\n",
    "    \"NORTH CAROLINA\",\n",
    "    \"NORTH DAKOTA\",\n",
    "    \"OHIO\",\n",
    "    \"OKLAHOMA\",\n",
    "    \"OREGON\",\n",
    "    \"PENNSYLVANIA\",\n",
    "    \"PUERTO RICO\",\n",
    "    \"RHODE ISLAND\",\n",
    "    \"SOUTH CAROLINA\",\n",
    "    \"SOUTH DAKOTA\",\n",
    "    \"TENNESSEE\",\n",
    "    \"TEXAS\",\n",
    "    \"UTAH\",\n",
    "    \"VERMONT\",\n",
    "    \"VIRGINIA\",\n",
    "    \"WASHINGTON\",\n",
    "    \"WEST VIRGINIA\",\n",
    "    \"WISCONSIN\",\n",
    "    \"WYOMING\"\n",
    "]\n",
    "\n",
    "exp_config2 = ExpectationConfiguration(\n",
    "    expectation_type=\"expect_column_distinct_values_to_be_in_set\",\n",
    "    kwargs={\"column\": \"STATE\", \"value_set\": state_names}\n",
    ")"
   ]
  },
  {
   "cell_type": "code",
   "execution_count": 5,
   "metadata": {},
   "outputs": [
    {
     "ename": "NameError",
     "evalue": "name 'exp_congig1' is not defined",
     "output_type": "error",
     "traceback": [
      "\u001b[0;31m---------------------------------------------------------------------------\u001b[0m",
      "\u001b[0;31mNameError\u001b[0m                                 Traceback (most recent call last)",
      "\u001b[1;32m/Users/kadeemletts/Documents/dev/disaster_data/astronomer_test/include/gx_test.ipynb Cell 8\u001b[0m line \u001b[0;36m1\n\u001b[0;32m----> <a href='vscode-notebook-cell:/Users/kadeemletts/Documents/dev/disaster_data/astronomer_test/include/gx_test.ipynb#X10sZmlsZQ%3D%3D?line=0'>1</a>\u001b[0m suite\u001b[39m.\u001b[39madd_expectation(expectation_configuration\u001b[39m=\u001b[39mexp_congig1)\n\u001b[1;32m      <a href='vscode-notebook-cell:/Users/kadeemletts/Documents/dev/disaster_data/astronomer_test/include/gx_test.ipynb#X10sZmlsZQ%3D%3D?line=1'>2</a>\u001b[0m suite\u001b[39m.\u001b[39madd_expectation(expectation_configuration\u001b[39m=\u001b[39mexp_config2)\n",
      "\u001b[0;31mNameError\u001b[0m: name 'exp_congig1' is not defined"
     ]
    }
   ],
   "source": [
    "suite.add_expectation(expectation_configuration=exp_congig1)\n",
    "suite.add_expectation(expectation_configuration=exp_config2)"
   ]
  },
  {
   "cell_type": "code",
   "execution_count": 59,
   "metadata": {},
   "outputs": [
    {
     "data": {
      "text/plain": [
       "'/Users/kadeemletts/Documents/dev/disaster_data/astronomer_test/include/gx/expectations/disaster__source__suite.json'"
      ]
     },
     "execution_count": 59,
     "metadata": {},
     "output_type": "execute_result"
    }
   ],
   "source": [
    "context.save_expectation_suite(expectation_suite=suite)"
   ]
  },
  {
   "cell_type": "code",
   "execution_count": 78,
   "metadata": {},
   "outputs": [],
   "source": [
    "# del validator\n",
    "validator=context.sources.pandas_default.read_csv(\n",
    "    \"../../../disaster_app_v2/raw/StormEvents_details-ftp_v1.0_d1950_c20210803.csv\"\n",
    ")"
   ]
  },
  {
   "cell_type": "code",
   "execution_count": 79,
   "metadata": {},
   "outputs": [
    {
     "data": {
      "application/vnd.jupyter.widget-view+json": {
       "model_id": "d8344d59233d4e2da0aca1ddce1dd20c",
       "version_major": 2,
       "version_minor": 0
      },
      "text/plain": [
       "Calculating Metrics:   0%|          | 0/6 [00:00<?, ?it/s]"
      ]
     },
     "metadata": {},
     "output_type": "display_data"
    },
    {
     "data": {
      "application/vnd.jupyter.widget-view+json": {
       "model_id": "621430f027644338b7e71b2e124227aa",
       "version_major": 2,
       "version_minor": 0
      },
      "text/plain": [
       "Calculating Metrics:   0%|          | 0/4 [00:00<?, ?it/s]"
      ]
     },
     "metadata": {},
     "output_type": "display_data"
    },
    {
     "data": {
      "text/plain": [
       "{\n",
       "  \"success\": true,\n",
       "  \"result\": {\n",
       "    \"observed_value\": [\n",
       "      \"ALABAMA\",\n",
       "      \"ARKANSAS\",\n",
       "      \"COLORADO\",\n",
       "      \"CONNECTICUT\",\n",
       "      \"FLORIDA\",\n",
       "      \"GEORGIA\",\n",
       "      \"ILLINOIS\",\n",
       "      \"INDIANA\",\n",
       "      \"IOWA\",\n",
       "      \"KANSAS\",\n",
       "      \"KENTUCKY\",\n",
       "      \"LOUISIANA\",\n",
       "      \"MARYLAND\",\n",
       "      \"MINNESOTA\",\n",
       "      \"MISSISSIPPI\",\n",
       "      \"MISSOURI\",\n",
       "      \"NEBRASKA\",\n",
       "      \"NEW MEXICO\",\n",
       "      \"NORTH CAROLINA\",\n",
       "      \"NORTH DAKOTA\",\n",
       "      \"OHIO\",\n",
       "      \"OKLAHOMA\",\n",
       "      \"PENNSYLVANIA\",\n",
       "      \"SOUTH CAROLINA\",\n",
       "      \"SOUTH DAKOTA\",\n",
       "      \"STATE\",\n",
       "      \"TENNESSEE\",\n",
       "      \"TEXAS\",\n",
       "      \"WEST VIRGINIA\",\n",
       "      \"WISCONSIN\",\n",
       "      \"WYOMING\"\n",
       "    ],\n",
       "    \"details\": {\n",
       "      \"value_counts\": [\n",
       "        {\n",
       "          \"value\": \"ALABAMA\",\n",
       "          \"count\": 8\n",
       "        },\n",
       "        {\n",
       "          \"value\": \"ARKANSAS\",\n",
       "          \"count\": 52\n",
       "        },\n",
       "        {\n",
       "          \"value\": \"COLORADO\",\n",
       "          \"count\": 12\n",
       "        },\n",
       "        {\n",
       "          \"value\": \"CONNECTICUT\",\n",
       "          \"count\": 8\n",
       "        },\n",
       "        {\n",
       "          \"value\": \"FLORIDA\",\n",
       "          \"count\": 24\n",
       "        },\n",
       "        {\n",
       "          \"value\": \"GEORGIA\",\n",
       "          \"count\": 16\n",
       "        },\n",
       "        {\n",
       "          \"value\": \"ILLINOIS\",\n",
       "          \"count\": 44\n",
       "        },\n",
       "        {\n",
       "          \"value\": \"INDIANA\",\n",
       "          \"count\": 12\n",
       "        },\n",
       "        {\n",
       "          \"value\": \"IOWA\",\n",
       "          \"count\": 16\n",
       "        },\n",
       "        {\n",
       "          \"value\": \"KANSAS\",\n",
       "          \"count\": 132\n",
       "        },\n",
       "        {\n",
       "          \"value\": \"KENTUCKY\",\n",
       "          \"count\": 8\n",
       "        },\n",
       "        {\n",
       "          \"value\": \"LOUISIANA\",\n",
       "          \"count\": 112\n",
       "        },\n",
       "        {\n",
       "          \"value\": \"MARYLAND\",\n",
       "          \"count\": 4\n",
       "        },\n",
       "        {\n",
       "          \"value\": \"MINNESOTA\",\n",
       "          \"count\": 4\n",
       "        },\n",
       "        {\n",
       "          \"value\": \"MISSISSIPPI\",\n",
       "          \"count\": 64\n",
       "        },\n",
       "        {\n",
       "          \"value\": \"MISSOURI\",\n",
       "          \"count\": 24\n",
       "        },\n",
       "        {\n",
       "          \"value\": \"NEBRASKA\",\n",
       "          \"count\": 24\n",
       "        },\n",
       "        {\n",
       "          \"value\": \"NEW MEXICO\",\n",
       "          \"count\": 8\n",
       "        },\n",
       "        {\n",
       "          \"value\": \"NORTH CAROLINA\",\n",
       "          \"count\": 36\n",
       "        },\n",
       "        {\n",
       "          \"value\": \"NORTH DAKOTA\",\n",
       "          \"count\": 8\n",
       "        },\n",
       "        {\n",
       "          \"value\": \"OHIO\",\n",
       "          \"count\": 12\n",
       "        },\n",
       "        {\n",
       "          \"value\": \"OKLAHOMA\",\n",
       "          \"count\": 100\n",
       "        },\n",
       "        {\n",
       "          \"value\": \"PENNSYLVANIA\",\n",
       "          \"count\": 24\n",
       "        },\n",
       "        {\n",
       "          \"value\": \"SOUTH CAROLINA\",\n",
       "          \"count\": 4\n",
       "        },\n",
       "        {\n",
       "          \"value\": \"SOUTH DAKOTA\",\n",
       "          \"count\": 4\n",
       "        },\n",
       "        {\n",
       "          \"value\": \"STATE\",\n",
       "          \"count\": 3\n",
       "        },\n",
       "        {\n",
       "          \"value\": \"TENNESSEE\",\n",
       "          \"count\": 12\n",
       "        },\n",
       "        {\n",
       "          \"value\": \"TEXAS\",\n",
       "          \"count\": 80\n",
       "        },\n",
       "        {\n",
       "          \"value\": \"WEST VIRGINIA\",\n",
       "          \"count\": 4\n",
       "        },\n",
       "        {\n",
       "          \"value\": \"WISCONSIN\",\n",
       "          \"count\": 24\n",
       "        },\n",
       "        {\n",
       "          \"value\": \"WYOMING\",\n",
       "          \"count\": 12\n",
       "        }\n",
       "      ]\n",
       "    }\n",
       "  },\n",
       "  \"meta\": {},\n",
       "  \"exception_info\": {\n",
       "    \"raised_exception\": false,\n",
       "    \"exception_traceback\": null,\n",
       "    \"exception_message\": null\n",
       "  }\n",
       "}"
      ]
     },
     "execution_count": 79,
     "metadata": {},
     "output_type": "execute_result"
    }
   ],
   "source": [
    "validator.expect_column_values_to_not_be_null(\"BEGIN_YEARMONTH\")\n",
    "validator.expect_column_distinct_values_to_be_in_set(\"STATE\", state_names)"
   ]
  },
  {
   "cell_type": "code",
   "execution_count": 82,
   "metadata": {},
   "outputs": [],
   "source": [
    "validator.save_expectation_suite()"
   ]
  },
  {
   "cell_type": "code",
   "execution_count": 23,
   "metadata": {},
   "outputs": [],
   "source": [
    "\n",
    "datasource_name = \"disaster_weather_data\"\n",
    "datasource = context.sources.add_or_update_pandas(datasource_name)\n",
    "\n",
    "asset_name = \"disaster_data\"\n",
    "path_to_data = \"../../../disaster_app_v2/raw/StormEvents_details-ftp_v1.0_d1950_c20210803.csv\"\n",
    "asset = datasource.add_csv_asset(asset_name, filepath_or_buffer=path_to_data)"
   ]
  },
  {
   "cell_type": "code",
   "execution_count": 92,
   "metadata": {},
   "outputs": [
    {
     "data": {
      "text/plain": [
       "<bound method FluentBaseModel.yaml of PandasDatasource(type='pandas', name='disaster_weather_data', id=None, assets=[CSVAsset(name='disaster_data', type='csv', id=None, order_by=[], batch_metadata={}, filepath_or_buffer=PosixPath('../../../disaster_app_v2/raw/StormEvents_details-ftp_v1.0_d1950_c20210803.csv'), sep=None, delimiter=None, header='infer', names=None, index_col=None, usecols=None, dtype=None, engine=None, true_values=None, false_values=None, skipinitialspace=False, skiprows=None, skipfooter=0, nrows=None, na_values=None, keep_default_na=True, na_filter=True, verbose=False, skip_blank_lines=True, parse_dates=None, infer_datetime_format=None, keep_date_col=False, date_format=None, dayfirst=False, cache_dates=True, iterator=False, chunksize=None, compression='infer', thousands=None, decimal='.', lineterminator=None, quotechar='\"', quoting=0, doublequote=True, escapechar=None, comment=None, encoding=None, encoding_errors='strict', dialect=None, on_bad_lines='error', delim_whitespace=False, low_memory=True, memory_map=False, float_precision=None, storage_options=None, dtype_backend=None)])>"
      ]
     },
     "execution_count": 92,
     "metadata": {},
     "output_type": "execute_result"
    }
   ],
   "source": [
    "datasource.yaml"
   ]
  },
  {
   "cell_type": "code",
   "execution_count": 24,
   "metadata": {},
   "outputs": [],
   "source": [
    "batch_request = asset.build_batch_request()"
   ]
  },
  {
   "cell_type": "code",
   "execution_count": 25,
   "metadata": {},
   "outputs": [],
   "source": [
    "validator = context.get_validator(\n",
    "    batch_request=batch_request,\n",
    "expectation_suite_name=suite_name\n",
    ")"
   ]
  },
  {
   "cell_type": "code",
   "execution_count": 10,
   "metadata": {},
   "outputs": [
    {
     "data": {
      "text/plain": [
       "{\n",
       "  \"expectation_suite_name\": \"disaster__source__suite\",\n",
       "  \"ge_cloud_id\": null,\n",
       "  \"expectations\": [],\n",
       "  \"data_asset_type\": null,\n",
       "  \"meta\": {\n",
       "    \"great_expectations_version\": \"0.18.8\"\n",
       "  }\n",
       "}"
      ]
     },
     "execution_count": 10,
     "metadata": {},
     "output_type": "execute_result"
    }
   ],
   "source": [
    "# validator.expectation_suite"
   ]
  },
  {
   "cell_type": "code",
   "execution_count": 30,
   "metadata": {},
   "outputs": [
    {
     "data": {
      "application/vnd.jupyter.widget-view+json": {
       "model_id": "21d8846bd4bd4664876368dbb5d76d82",
       "version_major": 2,
       "version_minor": 0
      },
      "text/plain": [
       "Calculating Metrics:   0%|          | 0/6 [00:00<?, ?it/s]"
      ]
     },
     "metadata": {},
     "output_type": "display_data"
    },
    {
     "data": {
      "application/vnd.jupyter.widget-view+json": {
       "model_id": "8d436f108b3f427d95bc0c4e74e38cf4",
       "version_major": 2,
       "version_minor": 0
      },
      "text/plain": [
       "Calculating Metrics:   0%|          | 0/6 [00:00<?, ?it/s]"
      ]
     },
     "metadata": {},
     "output_type": "display_data"
    },
    {
     "data": {
      "application/vnd.jupyter.widget-view+json": {
       "model_id": "02875e9e35f6461c815b458311fee3e1",
       "version_major": 2,
       "version_minor": 0
      },
      "text/plain": [
       "Calculating Metrics:   0%|          | 0/6 [00:00<?, ?it/s]"
      ]
     },
     "metadata": {},
     "output_type": "display_data"
    },
    {
     "data": {
      "application/vnd.jupyter.widget-view+json": {
       "model_id": "b0e9a7b7d4b846ed94db70a2fe2bed1c",
       "version_major": 2,
       "version_minor": 0
      },
      "text/plain": [
       "Calculating Metrics:   0%|          | 0/6 [00:00<?, ?it/s]"
      ]
     },
     "metadata": {},
     "output_type": "display_data"
    },
    {
     "data": {
      "application/vnd.jupyter.widget-view+json": {
       "model_id": "5911a2ac7a674021bc78469813724d1f",
       "version_major": 2,
       "version_minor": 0
      },
      "text/plain": [
       "Calculating Metrics:   0%|          | 0/6 [00:00<?, ?it/s]"
      ]
     },
     "metadata": {},
     "output_type": "display_data"
    },
    {
     "data": {
      "application/vnd.jupyter.widget-view+json": {
       "model_id": "f1a1db324a394a4c946c27f4ea94a559",
       "version_major": 2,
       "version_minor": 0
      },
      "text/plain": [
       "Calculating Metrics:   0%|          | 0/4 [00:00<?, ?it/s]"
      ]
     },
     "metadata": {},
     "output_type": "display_data"
    }
   ],
   "source": [
    "validator.expect_column_values_to_not_be_null(\"BEGIN_TIME\")\n",
    "validator.expect_column_values_to_not_be_null(\"BEGIN_DAY\")\n",
    "validator.expect_column_values_to_not_be_null(\"BEGIN_TIME\")\n",
    "validator.expect_column_values_to_not_be_null(\"STATE\")\n",
    "validator.expect_column_values_to_not_be_null(\"CZ_NAME\")\n",
    "validator.expect_column_distinct_values_to_be_in_set(\"STATE\", state_names)\n",
    "# validator.expect_column_values_to_be_between(\"BEGIN_DAY\", min_value=1, max_value=31)\n",
    "validator.save_expectation_suite()"
   ]
  },
  {
   "cell_type": "code",
   "execution_count": 31,
   "metadata": {},
   "outputs": [],
   "source": [
    "checkpoint_name = \"disaster__source__checkpoint\"\n",
    "checkpoint = context.add_or_update_checkpoint(\n",
    "    name=checkpoint_name,\n",
    "    validator=validator\n",
    ")"
   ]
  },
  {
   "cell_type": "code",
   "execution_count": 32,
   "metadata": {},
   "outputs": [
    {
     "data": {
      "application/vnd.jupyter.widget-view+json": {
       "model_id": "ac709184cbf841aa82c2156e86627be4",
       "version_major": 2,
       "version_minor": 0
      },
      "text/plain": [
       "Calculating Metrics:   0%|          | 0/29 [00:00<?, ?it/s]"
      ]
     },
     "metadata": {},
     "output_type": "display_data"
    },
    {
     "name": "stderr",
     "output_type": "stream",
     "text": [
      "An unexpected Exception occurred during data docs rendering.  Because of this error, certain parts of data docs will not be rendered properly and/or may not appear altogether.  Please use the trace, included in this message, to diagnose and repair the underlying issue.  Detailed information follows:\n",
      "                TypeError: \"unhashable type: 'list'\".  Traceback: \"Traceback (most recent call last):\n",
      "  File \"/Users/kadeemletts/.pyenv/versions/3.9.2/envs/great_expectations/lib/python3.9/site-packages/great_expectations/render/renderer/site_builder.py\", line 475, in build\n",
      "    rendered_content = self.renderer_class.render(resource)\n",
      "  File \"/Users/kadeemletts/.pyenv/versions/3.9.2/envs/great_expectations/lib/python3.9/site-packages/great_expectations/render/renderer/page_renderer.py\", line 677, in render\n",
      "    ) = expectations.get_grouped_and_ordered_expectations_by_column()\n",
      "  File \"/Users/kadeemletts/.pyenv/versions/3.9.2/envs/great_expectations/lib/python3.9/site-packages/great_expectations/core/expectation_suite.py\", line 986, in get_grouped_and_ordered_expectations_by_column\n",
      "    if column not in expectations_by_column:\n",
      "TypeError: unhashable type: 'list'\n",
      "\".\n",
      "An unexpected Exception occurred during data docs rendering.  Because of this error, certain parts of data docs will not be rendered properly and/or may not appear altogether.  Please use the trace, included in this message, to diagnose and repair the underlying issue.  Detailed information follows:\n",
      "                TypeError: \"unhashable type: 'list'\".  Traceback: \"Traceback (most recent call last):\n",
      "  File \"/Users/kadeemletts/.pyenv/versions/3.9.2/envs/great_expectations/lib/python3.9/site-packages/great_expectations/render/renderer/site_builder.py\", line 475, in build\n",
      "    rendered_content = self.renderer_class.render(resource)\n",
      "  File \"/Users/kadeemletts/.pyenv/versions/3.9.2/envs/great_expectations/lib/python3.9/site-packages/great_expectations/render/renderer/page_renderer.py\", line 109, in render\n",
      "    columns = self._group_evrs_by_column(validation_results, expectation_suite_name)\n",
      "  File \"/Users/kadeemletts/.pyenv/versions/3.9.2/envs/great_expectations/lib/python3.9/site-packages/great_expectations/render/renderer/page_renderer.py\", line 202, in _group_evrs_by_column\n",
      "    columns[column].append(evr)\n",
      "TypeError: unhashable type: 'list'\n",
      "\".\n"
     ]
    }
   ],
   "source": [
    "checkpoint_result = checkpoint.run()"
   ]
  },
  {
   "cell_type": "code",
   "execution_count": null,
   "metadata": {},
   "outputs": [],
   "source": []
  }
 ],
 "metadata": {
  "kernelspec": {
   "display_name": "great_expectations",
   "language": "python",
   "name": "python3"
  },
  "language_info": {
   "codemirror_mode": {
    "name": "ipython",
    "version": 3
   },
   "file_extension": ".py",
   "mimetype": "text/x-python",
   "name": "python",
   "nbconvert_exporter": "python",
   "pygments_lexer": "ipython3",
   "version": "3.9.2"
  }
 },
 "nbformat": 4,
 "nbformat_minor": 2
}
